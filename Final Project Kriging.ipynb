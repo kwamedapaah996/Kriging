{
 "cells": [
  {
   "cell_type": "code",
   "execution_count": null,
   "id": "0d78341c-4215-4f33-b973-741f9415b60c",
   "metadata": {},
   "outputs": [],
   "source": [
    "import os\n",
    "import numpy as np\n",
    "import pandas as pd\n",
    "import geopandas as gpd\n",
    "from sklearn.linear_model import LinearRegression\n",
    "import matplotlib.pyplot as plt\n",
    "import matplotlib_map_utils as mapu # for North Ar\n",
    "from pykrige.ok import OrdinaryKriging\n",
    "from pykrige.kriging_tools import write_asc_grid\n",
    "from matplotlib_scalebar.scalebar import ScaleBar\n",
    "import rasterio as rs"
   ]
  },
  {
   "cell_type": "markdown",
   "id": "9cb67dab-f0d0-46cd-a2d0-30ee365a1c31",
   "metadata": {},
   "source": [
    "Setting the working Directory\n",
    "\n",
    "Loading Data\n",
    "\n",
    "Extracting Lat Lons"
   ]
  },
  {
   "cell_type": "code",
   "execution_count": 76,
   "id": "ac25b054-75a2-43a2-aa15-c3d52aeafda3",
   "metadata": {},
   "outputs": [
    {
     "name": "stderr",
     "output_type": "stream",
     "text": [
      "<>:2: SyntaxWarning: invalid escape sequence '\\G'\n",
      "<>:2: SyntaxWarning: invalid escape sequence '\\G'\n",
      "C:\\Users\\User\\AppData\\Local\\Temp\\ipykernel_29056\\2522591919.py:2: SyntaxWarning: invalid escape sequence '\\G'\n",
      "  path = \"D:\\\\Fall2024\\GIS\\\\FinalProject\"\n"
     ]
    }
   ],
   "source": [
    "# Set the working directory\n",
    "path = \"D:\\\\Fall2024\\GIS\\\\FinalProject\"\n",
    "os.chdir(path)\n",
    "\n",
    "# Load the CSV data into a pandas DataFrame\n",
    "df = pd.read_csv(\"Trimble_Final_Data.csv\", low_memory=False)"
   ]
  },
  {
   "cell_type": "code",
   "execution_count": 77,
   "id": "8c314b2f-0d7d-4750-a2c7-ea786b8af72d",
   "metadata": {},
   "outputs": [
    {
     "data": {
      "text/html": [
       "<div>\n",
       "<style scoped>\n",
       "    .dataframe tbody tr th:only-of-type {\n",
       "        vertical-align: middle;\n",
       "    }\n",
       "\n",
       "    .dataframe tbody tr th {\n",
       "        vertical-align: top;\n",
       "    }\n",
       "\n",
       "    .dataframe thead th {\n",
       "        text-align: right;\n",
       "    }\n",
       "</style>\n",
       "<table border=\"1\" class=\"dataframe\">\n",
       "  <thead>\n",
       "    <tr style=\"text-align: right;\">\n",
       "      <th></th>\n",
       "      <th>Img_Label</th>\n",
       "      <th>X</th>\n",
       "      <th>Y</th>\n",
       "      <th>Z</th>\n",
       "      <th>Hor_Accuracy</th>\n",
       "      <th>Ver_Accuracy</th>\n",
       "      <th>Remarks</th>\n",
       "    </tr>\n",
       "  </thead>\n",
       "  <tbody>\n",
       "    <tr>\n",
       "      <th>0</th>\n",
       "      <td>A</td>\n",
       "      <td>396103.8633</td>\n",
       "      <td>3323564.158</td>\n",
       "      <td>4.425630</td>\n",
       "      <td>0.10</td>\n",
       "      <td>0.10</td>\n",
       "      <td>Concrete Top Left</td>\n",
       "    </tr>\n",
       "    <tr>\n",
       "      <th>1</th>\n",
       "      <td>B</td>\n",
       "      <td>396136.7596</td>\n",
       "      <td>3323564.703</td>\n",
       "      <td>4.492191</td>\n",
       "      <td>0.10</td>\n",
       "      <td>0.10</td>\n",
       "      <td>Concrete Top Right</td>\n",
       "    </tr>\n",
       "    <tr>\n",
       "      <th>2</th>\n",
       "      <td>C</td>\n",
       "      <td>396136.4109</td>\n",
       "      <td>3323541.640</td>\n",
       "      <td>5.300878</td>\n",
       "      <td>0.23</td>\n",
       "      <td>0.22</td>\n",
       "      <td>Concrete Bottom Right</td>\n",
       "    </tr>\n",
       "    <tr>\n",
       "      <th>3</th>\n",
       "      <td>D</td>\n",
       "      <td>396103.5592</td>\n",
       "      <td>3323540.882</td>\n",
       "      <td>4.571488</td>\n",
       "      <td>0.13</td>\n",
       "      <td>0.15</td>\n",
       "      <td>Concrete Bottom Left</td>\n",
       "    </tr>\n",
       "    <tr>\n",
       "      <th>4</th>\n",
       "      <td>F1</td>\n",
       "      <td>396123.5924</td>\n",
       "      <td>3323552.059</td>\n",
       "      <td>4.698696</td>\n",
       "      <td>0.10</td>\n",
       "      <td>0.10</td>\n",
       "      <td>Field Point 1</td>\n",
       "    </tr>\n",
       "    <tr>\n",
       "      <th>5</th>\n",
       "      <td>F2</td>\n",
       "      <td>396133.8301</td>\n",
       "      <td>3323548.847</td>\n",
       "      <td>4.577380</td>\n",
       "      <td>0.13</td>\n",
       "      <td>0.08</td>\n",
       "      <td>Field Point 2</td>\n",
       "    </tr>\n",
       "    <tr>\n",
       "      <th>6</th>\n",
       "      <td>F3</td>\n",
       "      <td>396143.1803</td>\n",
       "      <td>3323541.515</td>\n",
       "      <td>4.405187</td>\n",
       "      <td>0.10</td>\n",
       "      <td>0.10</td>\n",
       "      <td>Field Point 3</td>\n",
       "    </tr>\n",
       "    <tr>\n",
       "      <th>7</th>\n",
       "      <td>F4</td>\n",
       "      <td>396151.3444</td>\n",
       "      <td>3323540.109</td>\n",
       "      <td>4.366974</td>\n",
       "      <td>0.10</td>\n",
       "      <td>0.10</td>\n",
       "      <td>Field Point 4</td>\n",
       "    </tr>\n",
       "    <tr>\n",
       "      <th>8</th>\n",
       "      <td>F5</td>\n",
       "      <td>396125.8198</td>\n",
       "      <td>3323541.306</td>\n",
       "      <td>4.482209</td>\n",
       "      <td>0.16</td>\n",
       "      <td>0.23</td>\n",
       "      <td>Field Point 5</td>\n",
       "    </tr>\n",
       "    <tr>\n",
       "      <th>9</th>\n",
       "      <td>F6</td>\n",
       "      <td>396107.4443</td>\n",
       "      <td>3323552.295</td>\n",
       "      <td>4.620842</td>\n",
       "      <td>0.10</td>\n",
       "      <td>0.10</td>\n",
       "      <td>Field Point 6</td>\n",
       "    </tr>\n",
       "  </tbody>\n",
       "</table>\n",
       "</div>"
      ],
      "text/plain": [
       "  Img_Label            X            Y         Z  Hor_Accuracy  Ver_Accuracy  \\\n",
       "0         A  396103.8633  3323564.158  4.425630          0.10          0.10   \n",
       "1         B  396136.7596  3323564.703  4.492191          0.10          0.10   \n",
       "2         C  396136.4109  3323541.640  5.300878          0.23          0.22   \n",
       "3         D  396103.5592  3323540.882  4.571488          0.13          0.15   \n",
       "4        F1  396123.5924  3323552.059  4.698696          0.10          0.10   \n",
       "5        F2  396133.8301  3323548.847  4.577380          0.13          0.08   \n",
       "6        F3  396143.1803  3323541.515  4.405187          0.10          0.10   \n",
       "7        F4  396151.3444  3323540.109  4.366974          0.10          0.10   \n",
       "8        F5  396125.8198  3323541.306  4.482209          0.16          0.23   \n",
       "9        F6  396107.4443  3323552.295  4.620842          0.10          0.10   \n",
       "\n",
       "                 Remarks  \n",
       "0      Concrete Top Left  \n",
       "1     Concrete Top Right  \n",
       "2  Concrete Bottom Right  \n",
       "3   Concrete Bottom Left  \n",
       "4          Field Point 1  \n",
       "5          Field Point 2  \n",
       "6          Field Point 3  \n",
       "7          Field Point 4  \n",
       "8          Field Point 5  \n",
       "9          Field Point 6  "
      ]
     },
     "execution_count": 77,
     "metadata": {},
     "output_type": "execute_result"
    }
   ],
   "source": [
    "df.head(10)"
   ]
  },
  {
   "cell_type": "code",
   "execution_count": null,
   "id": "e68b2f93-91ca-44db-953c-07f3b80fea11",
   "metadata": {},
   "outputs": [],
   "source": []
  },
  {
   "cell_type": "code",
   "execution_count": 78,
   "id": "e832b6f5-7400-459d-9ea5-2fe510a23dd4",
   "metadata": {},
   "outputs": [],
   "source": [
    "# Extract Latitude, Longitude and z values for As from CSV file\n",
    "x = np.array(df['X'].values)\n",
    "y = np.array(df['Y'].values)\n",
    "z = np.array(df['Z'].values)"
   ]
  },
  {
   "cell_type": "markdown",
   "id": "91995682-aec6-4b5f-930c-2cfd5f05fb04",
   "metadata": {},
   "source": [
    " Fitting a linear plane Global for the dataset.\n",
    "\n",
    " \n",
    " Predict the values using Linear Model.\n",
    "\n",
    " \n",
    " Calculating the RMSE for the model. \n",
    "\n",
    " "
   ]
  },
  {
   "cell_type": "code",
   "execution_count": 79,
   "id": "84ff0224-697d-46da-a067-2a2e43605870",
   "metadata": {},
   "outputs": [
    {
     "name": "stdout",
     "output_type": "stream",
     "text": [
      "RMSE for the global model is 0.3197\n"
     ]
    }
   ],
   "source": [
    "# Prepare the data for linear regression\n",
    "X = np.column_stack((x, y))\n",
    "\n",
    "# Fit the linear regression model\n",
    "model = LinearRegression().fit(X, z)\n",
    "\n",
    "# Predict the values using the linear model\n",
    "z_pred_global = model.predict(X)\n",
    "\n",
    "# Calculate RMSE for the global model\n",
    "err_global = np.nansum((z - z_pred_global) ** 2)\n",
    "rmse_global = np.sqrt(err_global / len(z))\n",
    "\n",
    "print(f\"RMSE for the global model is {rmse_global:.4f}\")"
   ]
  },
  {
   "cell_type": "raw",
   "id": "198bd8d8-96f1-4bee-86d0-f10a5ee4b207",
   "metadata": {},
   "source": [
    "# Perform ordinary Kriging and select the best variogram"
   ]
  },
  {
   "cell_type": "code",
   "execution_count": 80,
   "id": "8f6824d2-24e7-4974-852a-0eb0396c2f41",
   "metadata": {},
   "outputs": [
    {
     "name": "stdout",
     "output_type": "stream",
     "text": [
      "Best variogram model: spherical\n",
      "RMSE: 1.5347280196921604\n"
     ]
    }
   ],
   "source": [
    "# The best variogram gives minimum root mean sq. error\n",
    "models = ['linear', 'power', 'gaussian', 'exponential', 'spherical']\n",
    "varioerr = []\n",
    "for m in models:\n",
    "    ok = OrdinaryKriging(x, y, z, variogram_model=m, verbose=False, enable_plotting=False)\n",
    "    Aspred,ss = ok.execute(\"grid\", x, y)\n",
    "    err = np.nansum((z-Aspred)**2)\n",
    "    rmse = np.sqrt(err/len(z))\n",
    "    varioerr.append(rmse)\n",
    "best_model_index = np.argmin(varioerr)\n",
    "best_model = models[best_model_index]\n",
    "print(f\"Best variogram model: {best_model}\")\n",
    "print(f\"RMSE: {varioerr[best_model_index]}\")"
   ]
  },
  {
   "cell_type": "markdown",
   "id": "a9235cc9-1cb8-4378-b7d7-0019a996eaac",
   "metadata": {},
   "source": [
    "Plotting bar plot errors for the Variogram Model"
   ]
  },
  {
   "cell_type": "code",
   "execution_count": 81,
   "id": "0e8efc99-9165-4f7e-9a49-400d55c885dd",
   "metadata": {},
   "outputs": [
    {
     "data": {
      "image/png": "[encoded data removed]",
      "text/plain": [
       "<Figure size 640x480 with 1 Axes>"
      ]
     },
     "metadata": {},
     "output_type": "display_data"
    }
   ],
   "source": [
    "# Plot errors bar\n",
    "minlim = np.min(varioerr) - np.std(varioerr)\n",
    "maxlim = np.max(varioerr) + np.std(varioerr)\n",
    "plt.bar(models,varioerr)\n",
    "plt.ylim(minlim,maxlim)\n",
    "plt.ylabel('Error')\n",
    "plt.xlabel('Model')\n",
    "plt.title(' Error Profile - Variogram Models')\n",
    "plt.show()"
   ]
  },
  {
   "cell_type": "markdown",
   "id": "2b493de0-85a7-4394-a062-260c2d054b90",
   "metadata": {},
   "source": [
    "Indicating New Sampling Area"
   ]
  },
  {
   "cell_type": "code",
   "execution_count": 82,
   "id": "5b189752-5389-4d21-9dec-49d8f08726cb",
   "metadata": {},
   "outputs": [
    {
     "data": {
      "image/png": "[encoded data removed]",
      "text/plain": [
       "<Figure size 640x480 with 2 Axes>"
      ]
     },
     "metadata": {},
     "output_type": "display_data"
    }
   ],
   "source": [
    "# Plot current data points\n",
    "plt.scatter(x, y, c=z, cmap='viridis', label='Current Data')\n",
    "plt.colorbar(label='Measured Values')\n",
    "plt.xlabel('X')\n",
    "plt.ylabel('Y')\n",
    "plt.title('Current Sampling Points')\n",
    "\n",
    "\n",
    "# Plot new sampling locations\n",
    "plt.scatter(new_x, new_y, c='red', marker='x', label='New Sampling Locations')\n",
    "plt.legend()\n",
    "plt.show()"
   ]
  },
  {
   "cell_type": "code",
   "execution_count": null,
   "id": "6e2d6c0b-02b4-497a-9e9a-e8a5e4990dff",
   "metadata": {},
   "outputs": [],
   "source": []
  }
 ],
 "metadata": {
  "kernelspec": {
   "display_name": "Python 3 (ipykernel)",
   "language": "python",
   "name": "python3"
  },
  "language_info": {
   "codemirror_mode": {
    "name": "ipython",
    "version": 3
   },
   "file_extension": ".py",
   "mimetype": "text/x-python",
   "name": "python",
   "nbconvert_exporter": "python",
   "pygments_lexer": "ipython3",
   "version": "3.12.4"
  }
 },
 "nbformat": 4,
 "nbformat_minor": 5
}
